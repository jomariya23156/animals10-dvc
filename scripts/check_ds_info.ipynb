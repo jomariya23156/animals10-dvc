{
 "cells": [
  {
   "cell_type": "code",
   "execution_count": 1,
   "id": "05e2d19f-a85f-410f-8c50-485ba8b4a824",
   "metadata": {},
   "outputs": [],
   "source": [
    "import os\n",
    "import random\n",
    "import cv2\n",
    "from tqdm import tqdm"
   ]
  },
  {
   "cell_type": "code",
   "execution_count": 2,
   "id": "61ac04e5-f354-4955-be7e-b2e98a8e782c",
   "metadata": {},
   "outputs": [],
   "source": [
    "ds_path = '/home/ariya/workspace/Datasets/Animals-10/images/'"
   ]
  },
  {
   "cell_type": "code",
   "execution_count": 3,
   "id": "3a0980c3-5092-42d0-aa93-3af350a9847a",
   "metadata": {},
   "outputs": [
    {
     "data": {
      "text/plain": [
       "['butterfly',\n",
       " 'cat',\n",
       " 'chicken',\n",
       " 'cow',\n",
       " 'dog',\n",
       " 'elephant',\n",
       " 'horse',\n",
       " 'sheep',\n",
       " 'spider',\n",
       " 'squirrel']"
      ]
     },
     "execution_count": 3,
     "metadata": {},
     "output_type": "execute_result"
    }
   ],
   "source": [
    "classes = os.listdir(ds_path)\n",
    "classes"
   ]
  },
  {
   "cell_type": "markdown",
   "id": "9bb45876-8006-442a-b5f7-3da5ac877473",
   "metadata": {},
   "source": [
    "## Check image size"
   ]
  },
  {
   "cell_type": "code",
   "execution_count": 4,
   "id": "fde1385e-aa37-4dd8-83d7-8283daafc323",
   "metadata": {},
   "outputs": [],
   "source": [
    "pick_dir = os.path.join(ds_path, classes[3])\n",
    "rand_imgs = random.sample(os.listdir(pick_dir), k=5)"
   ]
  },
  {
   "cell_type": "code",
   "execution_count": 5,
   "id": "9e455af8-59e6-4917-ac72-f92b37be348c",
   "metadata": {},
   "outputs": [
    {
     "name": "stdout",
     "output_type": "stream",
     "text": [
      "OIP-dXRxpGxy7BqIFs-6FFu6mwHaFX.jpeg\n",
      "(218, 300, 3)\n",
      "OIP-bbxgVLsEESDs5gnvEzyFIwAAAA.jpeg\n",
      "(226, 300, 3)\n",
      "OIP-ayZ7En3tBRQh7CsCmhxUhwHaE8.jpeg\n",
      "(200, 300, 3)\n",
      "OIP-vq0SlJWU3hJzKZ7wYOr1LAHaE7.jpeg\n",
      "(200, 300, 3)\n",
      "OIP-nv7-ucuW3yDeN5I13UjTgAHaED.jpeg\n",
      "(164, 300, 3)\n"
     ]
    }
   ],
   "source": [
    "for img_name in rand_imgs:\n",
    "    print(img_name)\n",
    "    img = cv2.imread(os.path.join(pick_dir, img_name))\n",
    "    print(img.shape)"
   ]
  },
  {
   "cell_type": "markdown",
   "id": "ea6cccae-c539-48dd-baae-37dd71048717",
   "metadata": {},
   "source": [
    "## Verify whether all image have unique name and their extensions\n",
    "this is important for making annotations in some cases"
   ]
  },
  {
   "cell_type": "code",
   "execution_count": 6,
   "id": "381a9ffd-0c36-411a-9042-d5e2484d07e7",
   "metadata": {},
   "outputs": [],
   "source": [
    "all_names = []\n",
    "not_unique = []\n",
    "for abs_path, subdirs, files in os.walk(ds_path):\n",
    "    for file in files:\n",
    "        if file in all_names:\n",
    "            not_unique.append(os.path.join(abs_path,file))\n",
    "        all_names.append(file)"
   ]
  },
  {
   "cell_type": "code",
   "execution_count": 7,
   "id": "616900b4-070a-4bd3-91f2-0e4c0378179e",
   "metadata": {},
   "outputs": [
    {
     "data": {
      "text/plain": [
       "(26179, 339)"
      ]
     },
     "execution_count": 7,
     "metadata": {},
     "output_type": "execute_result"
    }
   ],
   "source": [
    "len(all_names), len(not_unique)"
   ]
  },
  {
   "cell_type": "code",
   "execution_count": 8,
   "id": "61f7a61f-f6a7-4b8d-95a7-f7bec226485b",
   "metadata": {},
   "outputs": [
    {
     "data": {
      "text/plain": [
       "339"
      ]
     },
     "execution_count": 8,
     "metadata": {},
     "output_type": "execute_result"
    }
   ],
   "source": [
    "# if all are unique, this supposed to output 0\n",
    "# if it's not 0, and number doesn't match len(not_unique)\n",
    "# meaning some names are used more than once\n",
    "len(all_names) - len(set(all_names))"
   ]
  },
  {
   "cell_type": "code",
   "execution_count": 9,
   "id": "30859711-5535-4a98-aa4e-bc42523f4d62",
   "metadata": {
    "collapsed": true,
    "jupyter": {
     "outputs_hidden": true
    }
   },
   "outputs": [
    {
     "data": {
      "text/plain": [
       "['/home/ariya/workspace/Datasets/Animals-10/images/chicken/10.jpeg',\n",
       " '/home/ariya/workspace/Datasets/Animals-10/images/chicken/100.jpeg',\n",
       " '/home/ariya/workspace/Datasets/Animals-10/images/chicken/1001.jpeg',\n",
       " '/home/ariya/workspace/Datasets/Animals-10/images/chicken/1013.jpeg',\n",
       " '/home/ariya/workspace/Datasets/Animals-10/images/chicken/1016.jpeg',\n",
       " '/home/ariya/workspace/Datasets/Animals-10/images/chicken/1017.jpeg',\n",
       " '/home/ariya/workspace/Datasets/Animals-10/images/chicken/1018.jpeg',\n",
       " '/home/ariya/workspace/Datasets/Animals-10/images/chicken/1021.jpeg',\n",
       " '/home/ariya/workspace/Datasets/Animals-10/images/chicken/1024.jpeg',\n",
       " '/home/ariya/workspace/Datasets/Animals-10/images/chicken/1028.jpeg',\n",
       " '/home/ariya/workspace/Datasets/Animals-10/images/chicken/103.jpeg',\n",
       " '/home/ariya/workspace/Datasets/Animals-10/images/chicken/1030.jpeg',\n",
       " '/home/ariya/workspace/Datasets/Animals-10/images/chicken/1032.jpeg',\n",
       " '/home/ariya/workspace/Datasets/Animals-10/images/chicken/1033.jpeg',\n",
       " '/home/ariya/workspace/Datasets/Animals-10/images/chicken/1034.jpeg',\n",
       " '/home/ariya/workspace/Datasets/Animals-10/images/chicken/1039.jpeg',\n",
       " '/home/ariya/workspace/Datasets/Animals-10/images/chicken/1041.jpeg',\n",
       " '/home/ariya/workspace/Datasets/Animals-10/images/chicken/1042.jpeg',\n",
       " '/home/ariya/workspace/Datasets/Animals-10/images/chicken/1043.jpeg',\n",
       " '/home/ariya/workspace/Datasets/Animals-10/images/chicken/1044.jpeg',\n",
       " '/home/ariya/workspace/Datasets/Animals-10/images/chicken/1045.jpeg',\n",
       " '/home/ariya/workspace/Datasets/Animals-10/images/chicken/1047.jpeg',\n",
       " '/home/ariya/workspace/Datasets/Animals-10/images/chicken/1048.jpeg',\n",
       " '/home/ariya/workspace/Datasets/Animals-10/images/chicken/1050.jpeg',\n",
       " '/home/ariya/workspace/Datasets/Animals-10/images/chicken/1051.jpeg',\n",
       " '/home/ariya/workspace/Datasets/Animals-10/images/chicken/1052.jpeg',\n",
       " '/home/ariya/workspace/Datasets/Animals-10/images/chicken/1053.jpeg',\n",
       " '/home/ariya/workspace/Datasets/Animals-10/images/chicken/1054.jpeg',\n",
       " '/home/ariya/workspace/Datasets/Animals-10/images/chicken/1059.jpeg',\n",
       " '/home/ariya/workspace/Datasets/Animals-10/images/chicken/1074.jpeg',\n",
       " '/home/ariya/workspace/Datasets/Animals-10/images/chicken/1079.jpeg',\n",
       " '/home/ariya/workspace/Datasets/Animals-10/images/chicken/1085.jpeg',\n",
       " '/home/ariya/workspace/Datasets/Animals-10/images/chicken/109.jpeg',\n",
       " '/home/ariya/workspace/Datasets/Animals-10/images/chicken/1091.jpeg',\n",
       " '/home/ariya/workspace/Datasets/Animals-10/images/chicken/1096.jpeg',\n",
       " '/home/ariya/workspace/Datasets/Animals-10/images/chicken/110.jpeg',\n",
       " '/home/ariya/workspace/Datasets/Animals-10/images/chicken/1104.jpeg',\n",
       " '/home/ariya/workspace/Datasets/Animals-10/images/chicken/1105.jpeg',\n",
       " '/home/ariya/workspace/Datasets/Animals-10/images/chicken/111.jpeg',\n",
       " '/home/ariya/workspace/Datasets/Animals-10/images/chicken/1110.jpeg',\n",
       " '/home/ariya/workspace/Datasets/Animals-10/images/chicken/1113.jpeg',\n",
       " '/home/ariya/workspace/Datasets/Animals-10/images/chicken/1115.jpeg',\n",
       " '/home/ariya/workspace/Datasets/Animals-10/images/chicken/112.jpeg',\n",
       " '/home/ariya/workspace/Datasets/Animals-10/images/chicken/1120.jpeg',\n",
       " '/home/ariya/workspace/Datasets/Animals-10/images/chicken/1124.jpeg',\n",
       " '/home/ariya/workspace/Datasets/Animals-10/images/chicken/1142.jpeg',\n",
       " '/home/ariya/workspace/Datasets/Animals-10/images/chicken/1143.jpeg',\n",
       " '/home/ariya/workspace/Datasets/Animals-10/images/chicken/1144.jpeg',\n",
       " '/home/ariya/workspace/Datasets/Animals-10/images/chicken/1164.jpeg',\n",
       " '/home/ariya/workspace/Datasets/Animals-10/images/chicken/1165.jpeg',\n",
       " '/home/ariya/workspace/Datasets/Animals-10/images/chicken/1170.jpeg',\n",
       " '/home/ariya/workspace/Datasets/Animals-10/images/chicken/1175.jpeg',\n",
       " '/home/ariya/workspace/Datasets/Animals-10/images/chicken/1176.jpeg',\n",
       " '/home/ariya/workspace/Datasets/Animals-10/images/chicken/118.jpeg',\n",
       " '/home/ariya/workspace/Datasets/Animals-10/images/chicken/1184.jpeg',\n",
       " '/home/ariya/workspace/Datasets/Animals-10/images/chicken/119.jpeg',\n",
       " '/home/ariya/workspace/Datasets/Animals-10/images/chicken/1197.jpeg',\n",
       " '/home/ariya/workspace/Datasets/Animals-10/images/chicken/1198.jpeg',\n",
       " '/home/ariya/workspace/Datasets/Animals-10/images/chicken/1199.jpeg',\n",
       " '/home/ariya/workspace/Datasets/Animals-10/images/chicken/1207.jpeg',\n",
       " '/home/ariya/workspace/Datasets/Animals-10/images/chicken/1213.jpeg',\n",
       " '/home/ariya/workspace/Datasets/Animals-10/images/chicken/1214.jpeg',\n",
       " '/home/ariya/workspace/Datasets/Animals-10/images/chicken/1215.jpeg',\n",
       " '/home/ariya/workspace/Datasets/Animals-10/images/chicken/1216.jpeg',\n",
       " '/home/ariya/workspace/Datasets/Animals-10/images/chicken/1218.jpeg',\n",
       " '/home/ariya/workspace/Datasets/Animals-10/images/chicken/122.jpeg',\n",
       " '/home/ariya/workspace/Datasets/Animals-10/images/chicken/1224.jpeg',\n",
       " '/home/ariya/workspace/Datasets/Animals-10/images/chicken/1225.jpeg',\n",
       " '/home/ariya/workspace/Datasets/Animals-10/images/chicken/1226.jpeg',\n",
       " '/home/ariya/workspace/Datasets/Animals-10/images/chicken/1231.jpeg',\n",
       " '/home/ariya/workspace/Datasets/Animals-10/images/chicken/1233.jpeg',\n",
       " '/home/ariya/workspace/Datasets/Animals-10/images/chicken/1235.jpeg',\n",
       " '/home/ariya/workspace/Datasets/Animals-10/images/chicken/1236.jpeg',\n",
       " '/home/ariya/workspace/Datasets/Animals-10/images/chicken/1239.jpeg',\n",
       " '/home/ariya/workspace/Datasets/Animals-10/images/chicken/1242.jpeg',\n",
       " '/home/ariya/workspace/Datasets/Animals-10/images/chicken/1253.jpeg',\n",
       " '/home/ariya/workspace/Datasets/Animals-10/images/chicken/126.jpeg',\n",
       " '/home/ariya/workspace/Datasets/Animals-10/images/chicken/127.jpeg',\n",
       " '/home/ariya/workspace/Datasets/Animals-10/images/chicken/128.jpeg',\n",
       " '/home/ariya/workspace/Datasets/Animals-10/images/chicken/130.jpeg',\n",
       " '/home/ariya/workspace/Datasets/Animals-10/images/chicken/134.jpeg',\n",
       " '/home/ariya/workspace/Datasets/Animals-10/images/chicken/135.jpeg',\n",
       " '/home/ariya/workspace/Datasets/Animals-10/images/chicken/138.jpeg',\n",
       " '/home/ariya/workspace/Datasets/Animals-10/images/chicken/139.jpeg',\n",
       " '/home/ariya/workspace/Datasets/Animals-10/images/chicken/140.jpeg',\n",
       " '/home/ariya/workspace/Datasets/Animals-10/images/chicken/142.jpeg',\n",
       " '/home/ariya/workspace/Datasets/Animals-10/images/chicken/143.jpeg',\n",
       " '/home/ariya/workspace/Datasets/Animals-10/images/chicken/144.jpeg',\n",
       " '/home/ariya/workspace/Datasets/Animals-10/images/chicken/145.jpeg',\n",
       " '/home/ariya/workspace/Datasets/Animals-10/images/chicken/147.jpeg',\n",
       " '/home/ariya/workspace/Datasets/Animals-10/images/chicken/148.jpeg',\n",
       " '/home/ariya/workspace/Datasets/Animals-10/images/chicken/153.jpeg',\n",
       " '/home/ariya/workspace/Datasets/Animals-10/images/chicken/16.jpeg',\n",
       " '/home/ariya/workspace/Datasets/Animals-10/images/chicken/161.jpeg',\n",
       " '/home/ariya/workspace/Datasets/Animals-10/images/chicken/162.jpeg',\n",
       " '/home/ariya/workspace/Datasets/Animals-10/images/chicken/163.jpeg',\n",
       " '/home/ariya/workspace/Datasets/Animals-10/images/chicken/166.jpeg',\n",
       " '/home/ariya/workspace/Datasets/Animals-10/images/chicken/167.jpeg',\n",
       " '/home/ariya/workspace/Datasets/Animals-10/images/chicken/168.jpeg',\n",
       " '/home/ariya/workspace/Datasets/Animals-10/images/chicken/172.jpeg',\n",
       " '/home/ariya/workspace/Datasets/Animals-10/images/chicken/174.jpeg',\n",
       " '/home/ariya/workspace/Datasets/Animals-10/images/chicken/185.jpeg',\n",
       " '/home/ariya/workspace/Datasets/Animals-10/images/chicken/186.jpeg',\n",
       " '/home/ariya/workspace/Datasets/Animals-10/images/chicken/188.jpeg',\n",
       " '/home/ariya/workspace/Datasets/Animals-10/images/chicken/189.jpeg',\n",
       " '/home/ariya/workspace/Datasets/Animals-10/images/chicken/19.jpeg',\n",
       " '/home/ariya/workspace/Datasets/Animals-10/images/chicken/194.jpeg',\n",
       " '/home/ariya/workspace/Datasets/Animals-10/images/chicken/198.jpeg',\n",
       " '/home/ariya/workspace/Datasets/Animals-10/images/chicken/2.jpeg',\n",
       " '/home/ariya/workspace/Datasets/Animals-10/images/chicken/204.jpeg',\n",
       " '/home/ariya/workspace/Datasets/Animals-10/images/chicken/214.jpeg',\n",
       " '/home/ariya/workspace/Datasets/Animals-10/images/chicken/215.jpeg',\n",
       " '/home/ariya/workspace/Datasets/Animals-10/images/chicken/218.jpeg',\n",
       " '/home/ariya/workspace/Datasets/Animals-10/images/chicken/223.jpeg',\n",
       " '/home/ariya/workspace/Datasets/Animals-10/images/chicken/224.jpeg',\n",
       " '/home/ariya/workspace/Datasets/Animals-10/images/chicken/226.jpeg',\n",
       " '/home/ariya/workspace/Datasets/Animals-10/images/chicken/230.jpeg',\n",
       " '/home/ariya/workspace/Datasets/Animals-10/images/chicken/234.jpeg',\n",
       " '/home/ariya/workspace/Datasets/Animals-10/images/chicken/237.jpeg',\n",
       " '/home/ariya/workspace/Datasets/Animals-10/images/chicken/239.jpeg',\n",
       " '/home/ariya/workspace/Datasets/Animals-10/images/chicken/240.jpeg',\n",
       " '/home/ariya/workspace/Datasets/Animals-10/images/chicken/247.jpeg',\n",
       " '/home/ariya/workspace/Datasets/Animals-10/images/chicken/255.jpeg',\n",
       " '/home/ariya/workspace/Datasets/Animals-10/images/chicken/256.jpeg',\n",
       " '/home/ariya/workspace/Datasets/Animals-10/images/chicken/26.jpeg',\n",
       " '/home/ariya/workspace/Datasets/Animals-10/images/chicken/262.jpeg',\n",
       " '/home/ariya/workspace/Datasets/Animals-10/images/chicken/267.jpeg',\n",
       " '/home/ariya/workspace/Datasets/Animals-10/images/chicken/296.jpeg',\n",
       " '/home/ariya/workspace/Datasets/Animals-10/images/chicken/30.jpeg',\n",
       " '/home/ariya/workspace/Datasets/Animals-10/images/chicken/303.jpeg',\n",
       " '/home/ariya/workspace/Datasets/Animals-10/images/chicken/309.jpeg',\n",
       " '/home/ariya/workspace/Datasets/Animals-10/images/chicken/31.jpeg',\n",
       " '/home/ariya/workspace/Datasets/Animals-10/images/chicken/335.jpeg',\n",
       " '/home/ariya/workspace/Datasets/Animals-10/images/chicken/341.jpeg',\n",
       " '/home/ariya/workspace/Datasets/Animals-10/images/chicken/350.jpeg',\n",
       " '/home/ariya/workspace/Datasets/Animals-10/images/chicken/356.jpeg',\n",
       " '/home/ariya/workspace/Datasets/Animals-10/images/chicken/357.jpeg',\n",
       " '/home/ariya/workspace/Datasets/Animals-10/images/chicken/368.jpeg',\n",
       " '/home/ariya/workspace/Datasets/Animals-10/images/chicken/374.jpeg',\n",
       " '/home/ariya/workspace/Datasets/Animals-10/images/chicken/376.jpeg',\n",
       " '/home/ariya/workspace/Datasets/Animals-10/images/chicken/377.jpeg',\n",
       " '/home/ariya/workspace/Datasets/Animals-10/images/chicken/379.jpeg',\n",
       " '/home/ariya/workspace/Datasets/Animals-10/images/chicken/382.jpeg',\n",
       " '/home/ariya/workspace/Datasets/Animals-10/images/chicken/386.jpeg',\n",
       " '/home/ariya/workspace/Datasets/Animals-10/images/chicken/390.jpeg',\n",
       " '/home/ariya/workspace/Datasets/Animals-10/images/chicken/40.jpeg',\n",
       " '/home/ariya/workspace/Datasets/Animals-10/images/chicken/400.jpeg',\n",
       " '/home/ariya/workspace/Datasets/Animals-10/images/chicken/401.jpeg',\n",
       " '/home/ariya/workspace/Datasets/Animals-10/images/chicken/402.jpeg',\n",
       " '/home/ariya/workspace/Datasets/Animals-10/images/chicken/405.jpeg',\n",
       " '/home/ariya/workspace/Datasets/Animals-10/images/chicken/410.jpeg',\n",
       " '/home/ariya/workspace/Datasets/Animals-10/images/chicken/414.jpeg',\n",
       " '/home/ariya/workspace/Datasets/Animals-10/images/chicken/417.jpeg',\n",
       " '/home/ariya/workspace/Datasets/Animals-10/images/chicken/420.jpeg',\n",
       " '/home/ariya/workspace/Datasets/Animals-10/images/chicken/421.jpeg',\n",
       " '/home/ariya/workspace/Datasets/Animals-10/images/chicken/422.jpeg',\n",
       " '/home/ariya/workspace/Datasets/Animals-10/images/chicken/428.jpeg',\n",
       " '/home/ariya/workspace/Datasets/Animals-10/images/chicken/43.jpeg',\n",
       " '/home/ariya/workspace/Datasets/Animals-10/images/chicken/430.jpeg',\n",
       " '/home/ariya/workspace/Datasets/Animals-10/images/chicken/431.jpeg',\n",
       " '/home/ariya/workspace/Datasets/Animals-10/images/chicken/440.jpeg',\n",
       " '/home/ariya/workspace/Datasets/Animals-10/images/chicken/441.jpeg',\n",
       " '/home/ariya/workspace/Datasets/Animals-10/images/chicken/444.jpeg',\n",
       " '/home/ariya/workspace/Datasets/Animals-10/images/chicken/451.jpeg',\n",
       " '/home/ariya/workspace/Datasets/Animals-10/images/chicken/453.jpeg',\n",
       " '/home/ariya/workspace/Datasets/Animals-10/images/chicken/455.jpeg',\n",
       " '/home/ariya/workspace/Datasets/Animals-10/images/chicken/456.jpeg',\n",
       " '/home/ariya/workspace/Datasets/Animals-10/images/chicken/465.jpeg',\n",
       " '/home/ariya/workspace/Datasets/Animals-10/images/chicken/466.jpeg',\n",
       " '/home/ariya/workspace/Datasets/Animals-10/images/chicken/468.jpeg',\n",
       " '/home/ariya/workspace/Datasets/Animals-10/images/chicken/471.jpeg',\n",
       " '/home/ariya/workspace/Datasets/Animals-10/images/chicken/476.jpeg',\n",
       " '/home/ariya/workspace/Datasets/Animals-10/images/chicken/477.jpeg',\n",
       " '/home/ariya/workspace/Datasets/Animals-10/images/chicken/481.jpeg',\n",
       " '/home/ariya/workspace/Datasets/Animals-10/images/chicken/485.jpeg',\n",
       " '/home/ariya/workspace/Datasets/Animals-10/images/chicken/487.jpeg',\n",
       " '/home/ariya/workspace/Datasets/Animals-10/images/chicken/489.jpeg',\n",
       " '/home/ariya/workspace/Datasets/Animals-10/images/chicken/492.jpeg',\n",
       " '/home/ariya/workspace/Datasets/Animals-10/images/chicken/494.jpeg',\n",
       " '/home/ariya/workspace/Datasets/Animals-10/images/chicken/498.jpeg',\n",
       " '/home/ariya/workspace/Datasets/Animals-10/images/chicken/499.jpeg',\n",
       " '/home/ariya/workspace/Datasets/Animals-10/images/chicken/5.jpeg',\n",
       " '/home/ariya/workspace/Datasets/Animals-10/images/chicken/50.jpeg',\n",
       " '/home/ariya/workspace/Datasets/Animals-10/images/chicken/502.jpeg',\n",
       " '/home/ariya/workspace/Datasets/Animals-10/images/chicken/51.jpeg',\n",
       " '/home/ariya/workspace/Datasets/Animals-10/images/chicken/511.jpeg',\n",
       " '/home/ariya/workspace/Datasets/Animals-10/images/chicken/514.jpeg',\n",
       " '/home/ariya/workspace/Datasets/Animals-10/images/chicken/517.jpeg',\n",
       " '/home/ariya/workspace/Datasets/Animals-10/images/chicken/521.jpeg',\n",
       " '/home/ariya/workspace/Datasets/Animals-10/images/chicken/532.jpeg',\n",
       " '/home/ariya/workspace/Datasets/Animals-10/images/chicken/533.jpeg',\n",
       " '/home/ariya/workspace/Datasets/Animals-10/images/chicken/539.jpeg',\n",
       " '/home/ariya/workspace/Datasets/Animals-10/images/chicken/54.jpeg',\n",
       " '/home/ariya/workspace/Datasets/Animals-10/images/chicken/542.jpeg',\n",
       " '/home/ariya/workspace/Datasets/Animals-10/images/chicken/543.jpeg',\n",
       " '/home/ariya/workspace/Datasets/Animals-10/images/chicken/546.jpeg',\n",
       " '/home/ariya/workspace/Datasets/Animals-10/images/chicken/547.jpeg',\n",
       " '/home/ariya/workspace/Datasets/Animals-10/images/chicken/550.jpeg',\n",
       " '/home/ariya/workspace/Datasets/Animals-10/images/chicken/552.jpeg',\n",
       " '/home/ariya/workspace/Datasets/Animals-10/images/chicken/556.jpeg',\n",
       " '/home/ariya/workspace/Datasets/Animals-10/images/chicken/557.jpeg',\n",
       " '/home/ariya/workspace/Datasets/Animals-10/images/chicken/558.jpeg',\n",
       " '/home/ariya/workspace/Datasets/Animals-10/images/chicken/559.jpeg',\n",
       " '/home/ariya/workspace/Datasets/Animals-10/images/chicken/560.jpeg',\n",
       " '/home/ariya/workspace/Datasets/Animals-10/images/chicken/561.jpeg',\n",
       " '/home/ariya/workspace/Datasets/Animals-10/images/chicken/563.jpeg',\n",
       " '/home/ariya/workspace/Datasets/Animals-10/images/chicken/566.jpeg',\n",
       " '/home/ariya/workspace/Datasets/Animals-10/images/chicken/568.jpeg',\n",
       " '/home/ariya/workspace/Datasets/Animals-10/images/chicken/569.jpeg',\n",
       " '/home/ariya/workspace/Datasets/Animals-10/images/chicken/571.jpeg',\n",
       " '/home/ariya/workspace/Datasets/Animals-10/images/chicken/575.jpeg',\n",
       " '/home/ariya/workspace/Datasets/Animals-10/images/chicken/576.jpeg',\n",
       " '/home/ariya/workspace/Datasets/Animals-10/images/chicken/577.jpeg',\n",
       " '/home/ariya/workspace/Datasets/Animals-10/images/chicken/579.jpeg',\n",
       " '/home/ariya/workspace/Datasets/Animals-10/images/chicken/582.jpeg',\n",
       " '/home/ariya/workspace/Datasets/Animals-10/images/chicken/584.jpeg',\n",
       " '/home/ariya/workspace/Datasets/Animals-10/images/chicken/588.jpeg',\n",
       " '/home/ariya/workspace/Datasets/Animals-10/images/chicken/590.jpeg',\n",
       " '/home/ariya/workspace/Datasets/Animals-10/images/chicken/591.jpeg',\n",
       " '/home/ariya/workspace/Datasets/Animals-10/images/chicken/593.jpeg',\n",
       " '/home/ariya/workspace/Datasets/Animals-10/images/chicken/594.jpeg',\n",
       " '/home/ariya/workspace/Datasets/Animals-10/images/chicken/595.jpeg',\n",
       " '/home/ariya/workspace/Datasets/Animals-10/images/chicken/599.jpeg',\n",
       " '/home/ariya/workspace/Datasets/Animals-10/images/chicken/6.jpeg',\n",
       " '/home/ariya/workspace/Datasets/Animals-10/images/chicken/60.jpeg',\n",
       " '/home/ariya/workspace/Datasets/Animals-10/images/chicken/601.jpeg',\n",
       " '/home/ariya/workspace/Datasets/Animals-10/images/chicken/602.jpeg',\n",
       " '/home/ariya/workspace/Datasets/Animals-10/images/chicken/604.jpeg',\n",
       " '/home/ariya/workspace/Datasets/Animals-10/images/chicken/609.jpeg',\n",
       " '/home/ariya/workspace/Datasets/Animals-10/images/chicken/610.jpeg',\n",
       " '/home/ariya/workspace/Datasets/Animals-10/images/chicken/611.jpeg',\n",
       " '/home/ariya/workspace/Datasets/Animals-10/images/chicken/613.jpeg',\n",
       " '/home/ariya/workspace/Datasets/Animals-10/images/chicken/619.jpeg',\n",
       " '/home/ariya/workspace/Datasets/Animals-10/images/chicken/62.jpeg',\n",
       " '/home/ariya/workspace/Datasets/Animals-10/images/chicken/635.jpeg',\n",
       " '/home/ariya/workspace/Datasets/Animals-10/images/chicken/637.jpeg',\n",
       " '/home/ariya/workspace/Datasets/Animals-10/images/chicken/638.jpeg',\n",
       " '/home/ariya/workspace/Datasets/Animals-10/images/chicken/64.jpeg',\n",
       " '/home/ariya/workspace/Datasets/Animals-10/images/chicken/642.jpeg',\n",
       " '/home/ariya/workspace/Datasets/Animals-10/images/chicken/643.jpeg',\n",
       " '/home/ariya/workspace/Datasets/Animals-10/images/chicken/648.jpeg',\n",
       " '/home/ariya/workspace/Datasets/Animals-10/images/chicken/649.jpeg',\n",
       " '/home/ariya/workspace/Datasets/Animals-10/images/chicken/655.jpeg',\n",
       " '/home/ariya/workspace/Datasets/Animals-10/images/chicken/669.jpeg',\n",
       " '/home/ariya/workspace/Datasets/Animals-10/images/chicken/670.jpeg',\n",
       " '/home/ariya/workspace/Datasets/Animals-10/images/chicken/671.jpeg',\n",
       " '/home/ariya/workspace/Datasets/Animals-10/images/chicken/675.jpeg',\n",
       " '/home/ariya/workspace/Datasets/Animals-10/images/chicken/681.jpeg',\n",
       " '/home/ariya/workspace/Datasets/Animals-10/images/chicken/685.jpeg',\n",
       " '/home/ariya/workspace/Datasets/Animals-10/images/chicken/687.jpeg',\n",
       " '/home/ariya/workspace/Datasets/Animals-10/images/chicken/690.jpeg',\n",
       " '/home/ariya/workspace/Datasets/Animals-10/images/chicken/691.jpeg',\n",
       " '/home/ariya/workspace/Datasets/Animals-10/images/chicken/695.jpeg',\n",
       " '/home/ariya/workspace/Datasets/Animals-10/images/chicken/696.jpeg',\n",
       " '/home/ariya/workspace/Datasets/Animals-10/images/chicken/698.jpeg',\n",
       " '/home/ariya/workspace/Datasets/Animals-10/images/chicken/701.jpeg',\n",
       " '/home/ariya/workspace/Datasets/Animals-10/images/chicken/702.jpeg',\n",
       " '/home/ariya/workspace/Datasets/Animals-10/images/chicken/710.jpeg',\n",
       " '/home/ariya/workspace/Datasets/Animals-10/images/chicken/713.jpeg',\n",
       " '/home/ariya/workspace/Datasets/Animals-10/images/chicken/714.jpeg',\n",
       " '/home/ariya/workspace/Datasets/Animals-10/images/chicken/728.jpeg',\n",
       " '/home/ariya/workspace/Datasets/Animals-10/images/chicken/737.jpeg',\n",
       " '/home/ariya/workspace/Datasets/Animals-10/images/chicken/741.jpeg',\n",
       " '/home/ariya/workspace/Datasets/Animals-10/images/chicken/746.jpeg',\n",
       " '/home/ariya/workspace/Datasets/Animals-10/images/chicken/763.jpeg',\n",
       " '/home/ariya/workspace/Datasets/Animals-10/images/chicken/764.jpeg',\n",
       " '/home/ariya/workspace/Datasets/Animals-10/images/chicken/771.jpeg',\n",
       " '/home/ariya/workspace/Datasets/Animals-10/images/chicken/781.jpeg',\n",
       " '/home/ariya/workspace/Datasets/Animals-10/images/chicken/784.jpeg',\n",
       " '/home/ariya/workspace/Datasets/Animals-10/images/chicken/785.jpeg',\n",
       " '/home/ariya/workspace/Datasets/Animals-10/images/chicken/798.jpeg',\n",
       " '/home/ariya/workspace/Datasets/Animals-10/images/chicken/805.jpeg',\n",
       " '/home/ariya/workspace/Datasets/Animals-10/images/chicken/807.jpeg',\n",
       " '/home/ariya/workspace/Datasets/Animals-10/images/chicken/808.jpeg',\n",
       " '/home/ariya/workspace/Datasets/Animals-10/images/chicken/810.jpeg',\n",
       " '/home/ariya/workspace/Datasets/Animals-10/images/chicken/814.jpeg',\n",
       " '/home/ariya/workspace/Datasets/Animals-10/images/chicken/815.jpeg',\n",
       " '/home/ariya/workspace/Datasets/Animals-10/images/chicken/839.jpeg',\n",
       " '/home/ariya/workspace/Datasets/Animals-10/images/chicken/849.jpeg',\n",
       " '/home/ariya/workspace/Datasets/Animals-10/images/chicken/857.jpeg',\n",
       " '/home/ariya/workspace/Datasets/Animals-10/images/chicken/859.jpeg',\n",
       " '/home/ariya/workspace/Datasets/Animals-10/images/chicken/861.jpeg',\n",
       " '/home/ariya/workspace/Datasets/Animals-10/images/chicken/869.jpeg',\n",
       " '/home/ariya/workspace/Datasets/Animals-10/images/chicken/87.jpeg',\n",
       " '/home/ariya/workspace/Datasets/Animals-10/images/chicken/870.jpeg',\n",
       " '/home/ariya/workspace/Datasets/Animals-10/images/chicken/88.jpeg',\n",
       " '/home/ariya/workspace/Datasets/Animals-10/images/chicken/884.jpeg',\n",
       " '/home/ariya/workspace/Datasets/Animals-10/images/chicken/886.jpeg',\n",
       " '/home/ariya/workspace/Datasets/Animals-10/images/chicken/889.jpeg',\n",
       " '/home/ariya/workspace/Datasets/Animals-10/images/chicken/894.jpeg',\n",
       " '/home/ariya/workspace/Datasets/Animals-10/images/chicken/895.jpeg',\n",
       " '/home/ariya/workspace/Datasets/Animals-10/images/chicken/899.jpeg',\n",
       " '/home/ariya/workspace/Datasets/Animals-10/images/chicken/9.jpeg',\n",
       " '/home/ariya/workspace/Datasets/Animals-10/images/chicken/900.jpeg',\n",
       " '/home/ariya/workspace/Datasets/Animals-10/images/chicken/901.jpeg',\n",
       " '/home/ariya/workspace/Datasets/Animals-10/images/chicken/909.jpeg',\n",
       " '/home/ariya/workspace/Datasets/Animals-10/images/chicken/91.jpeg',\n",
       " '/home/ariya/workspace/Datasets/Animals-10/images/chicken/910.jpeg',\n",
       " '/home/ariya/workspace/Datasets/Animals-10/images/chicken/912.jpeg',\n",
       " '/home/ariya/workspace/Datasets/Animals-10/images/chicken/913.jpeg',\n",
       " '/home/ariya/workspace/Datasets/Animals-10/images/chicken/915.jpeg',\n",
       " '/home/ariya/workspace/Datasets/Animals-10/images/chicken/917.jpeg',\n",
       " '/home/ariya/workspace/Datasets/Animals-10/images/chicken/918.jpeg',\n",
       " '/home/ariya/workspace/Datasets/Animals-10/images/chicken/92.jpeg',\n",
       " '/home/ariya/workspace/Datasets/Animals-10/images/chicken/922.jpeg',\n",
       " '/home/ariya/workspace/Datasets/Animals-10/images/chicken/924.jpeg',\n",
       " '/home/ariya/workspace/Datasets/Animals-10/images/chicken/926.jpeg',\n",
       " '/home/ariya/workspace/Datasets/Animals-10/images/chicken/927.jpeg',\n",
       " '/home/ariya/workspace/Datasets/Animals-10/images/chicken/928.jpeg',\n",
       " '/home/ariya/workspace/Datasets/Animals-10/images/chicken/932.jpeg',\n",
       " '/home/ariya/workspace/Datasets/Animals-10/images/chicken/933.jpeg',\n",
       " '/home/ariya/workspace/Datasets/Animals-10/images/chicken/934.jpeg',\n",
       " '/home/ariya/workspace/Datasets/Animals-10/images/chicken/938.jpeg',\n",
       " '/home/ariya/workspace/Datasets/Animals-10/images/chicken/939.jpeg',\n",
       " '/home/ariya/workspace/Datasets/Animals-10/images/chicken/940.jpeg',\n",
       " '/home/ariya/workspace/Datasets/Animals-10/images/chicken/941.jpeg',\n",
       " '/home/ariya/workspace/Datasets/Animals-10/images/chicken/942.jpeg',\n",
       " '/home/ariya/workspace/Datasets/Animals-10/images/chicken/943.jpeg',\n",
       " '/home/ariya/workspace/Datasets/Animals-10/images/chicken/945.jpeg',\n",
       " '/home/ariya/workspace/Datasets/Animals-10/images/chicken/946.jpeg',\n",
       " '/home/ariya/workspace/Datasets/Animals-10/images/chicken/951.jpeg',\n",
       " '/home/ariya/workspace/Datasets/Animals-10/images/chicken/953.jpeg',\n",
       " '/home/ariya/workspace/Datasets/Animals-10/images/chicken/954.jpeg',\n",
       " '/home/ariya/workspace/Datasets/Animals-10/images/chicken/955.jpeg',\n",
       " '/home/ariya/workspace/Datasets/Animals-10/images/chicken/956.jpeg',\n",
       " '/home/ariya/workspace/Datasets/Animals-10/images/chicken/957.jpeg',\n",
       " '/home/ariya/workspace/Datasets/Animals-10/images/chicken/958.jpeg',\n",
       " '/home/ariya/workspace/Datasets/Animals-10/images/chicken/961.jpeg',\n",
       " '/home/ariya/workspace/Datasets/Animals-10/images/chicken/962.jpeg',\n",
       " '/home/ariya/workspace/Datasets/Animals-10/images/chicken/965.jpeg',\n",
       " '/home/ariya/workspace/Datasets/Animals-10/images/chicken/967.jpeg',\n",
       " '/home/ariya/workspace/Datasets/Animals-10/images/chicken/968.jpeg',\n",
       " '/home/ariya/workspace/Datasets/Animals-10/images/chicken/969.jpeg',\n",
       " '/home/ariya/workspace/Datasets/Animals-10/images/chicken/97.jpeg',\n",
       " '/home/ariya/workspace/Datasets/Animals-10/images/chicken/972.jpeg',\n",
       " '/home/ariya/workspace/Datasets/Animals-10/images/chicken/981.jpeg',\n",
       " '/home/ariya/workspace/Datasets/Animals-10/images/chicken/982.jpeg',\n",
       " '/home/ariya/workspace/Datasets/Animals-10/images/chicken/984.jpeg',\n",
       " '/home/ariya/workspace/Datasets/Animals-10/images/chicken/991.jpeg']"
      ]
     },
     "execution_count": 9,
     "metadata": {},
     "output_type": "execute_result"
    }
   ],
   "source": [
    "# from checking they are duped with cat/\n",
    "not_unique"
   ]
  },
  {
   "cell_type": "code",
   "execution_count": 10,
   "id": "7135e907-2530-42f1-9175-d5c45290bda2",
   "metadata": {},
   "outputs": [],
   "source": [
    "for old_path in not_unique:\n",
    "    new_path = old_path[:old_path.rfind('.jpeg')]\n",
    "    new_path = new_path + '_renamed.jpeg'\n",
    "    os.rename(old_path, new_path)"
   ]
  },
  {
   "cell_type": "code",
   "execution_count": 11,
   "id": "5f6cea1f-f42a-4569-8d4b-f157fe8c7113",
   "metadata": {},
   "outputs": [],
   "source": [
    "## recheck again\n",
    "all_names = []\n",
    "not_unique = []\n",
    "for abs_path, subdirs, files in os.walk(ds_path):\n",
    "    for file in files:\n",
    "        if file in all_names:\n",
    "            not_unique.append(os.path.join(abs_path,file))\n",
    "        all_names.append(file)"
   ]
  },
  {
   "cell_type": "code",
   "execution_count": 12,
   "id": "d9da8d15-a486-4466-9eae-d329914b6045",
   "metadata": {},
   "outputs": [
    {
     "data": {
      "text/plain": [
       "(26179, 0)"
      ]
     },
     "execution_count": 12,
     "metadata": {},
     "output_type": "execute_result"
    }
   ],
   "source": [
    "len(all_names), len(not_unique)"
   ]
  },
  {
   "cell_type": "code",
   "execution_count": 14,
   "id": "8b181202-7464-4e16-bba6-d324449e1510",
   "metadata": {},
   "outputs": [
    {
     "data": {
      "text/plain": [
       "{'.jpeg', '.jpg', '.png'}"
      ]
     },
     "execution_count": 14,
     "metadata": {},
     "output_type": "execute_result"
    }
   ],
   "source": [
    "# check all extensions\n",
    "set(map(lambda x: x[x.rfind('.'):], all_names))"
   ]
  },
  {
   "cell_type": "markdown",
   "id": "57d8f929-a2d0-45bb-850d-3b5dda813a93",
   "metadata": {},
   "source": [
    "## Now all image names are unique"
   ]
  }
 ],
 "metadata": {
  "kernelspec": {
   "display_name": "computer-viz-dl",
   "language": "python",
   "name": "computer-viz-dl"
  },
  "language_info": {
   "codemirror_mode": {
    "name": "ipython",
    "version": 3
   },
   "file_extension": ".py",
   "mimetype": "text/x-python",
   "name": "python",
   "nbconvert_exporter": "python",
   "pygments_lexer": "ipython3",
   "version": "3.9.17"
  }
 },
 "nbformat": 4,
 "nbformat_minor": 5
}
