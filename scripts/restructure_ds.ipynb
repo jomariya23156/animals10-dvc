{
 "cells": [
  {
   "cell_type": "markdown",
   "id": "c14fe86c-27ca-40c7-8a3b-1c3837b2316b",
   "metadata": {},
   "source": [
    "## Plan\n",
    "- v1.0.0 -> images/class/image1.jpeg\n",
    "- in v2.0.0 we will add another upper dir to specify the image's split before class name -> images/train/class/image1.jpeg (note: this also helps deepchecks to work correctly)\n",
    "- update 'abs_path' in annotation_df.csv accordingly\n",
    "- in v1.0.0 we also have mixes of 3 image extensions: .jpeg, .jpg, .png\n",
    "- in v2.0.0 we will convert them into only 1 extension for convention "
   ]
  },
  {
   "cell_type": "code",
   "execution_count": 1,
   "id": "410046a5-e98a-4cbd-b46c-6ac6913415e9",
   "metadata": {},
   "outputs": [],
   "source": [
    "import os\n",
    "import cv2\n",
    "import shutil\n",
    "import numpy as np\n",
    "import pandas as pd\n",
    "from tqdm import tqdm\n",
    "from PIL import Image"
   ]
  },
  {
   "cell_type": "code",
   "execution_count": 2,
   "id": "eb344a35-b97a-4671-9528-5166e1872e49",
   "metadata": {},
   "outputs": [],
   "source": [
    "def cvt_img_to_ext(img_path, out_ext='jpeg'):\n",
    "    ori_ext = img_path[img_path.rfind('.')+1:]\n",
    "    im = Image.open(img_path)\n",
    "    im = im.convert('RGB')\n",
    "    new_img_path = img_path.replace(ori_ext, out_ext)\n",
    "    im.save(new_img_path)\n",
    "    return new_img_path"
   ]
  },
  {
   "cell_type": "code",
   "execution_count": 3,
   "id": "9a9555a3-537b-49fa-b648-982a5292b239",
   "metadata": {},
   "outputs": [],
   "source": [
    "ds_path = '/home/ariya/workspace/datasets/animals10-dvc/images/'"
   ]
  },
  {
   "cell_type": "code",
   "execution_count": 4,
   "id": "42853729-1be8-48f3-a336-d43b8b64be6b",
   "metadata": {},
   "outputs": [],
   "source": [
    "## check exts\n",
    "all_names = []\n",
    "not_unique = []\n",
    "for abs_path, subdirs, files in os.walk(ds_path):\n",
    "    for file in files:\n",
    "        if file in all_names:\n",
    "            not_unique.append(os.path.join(abs_path,file))\n",
    "        all_names.append(file)"
   ]
  },
  {
   "cell_type": "code",
   "execution_count": 5,
   "id": "ef07627e-6a41-410a-84ec-50754d868563",
   "metadata": {},
   "outputs": [
    {
     "data": {
      "text/plain": [
       "(26179, 0)"
      ]
     },
     "execution_count": 5,
     "metadata": {},
     "output_type": "execute_result"
    }
   ],
   "source": [
    "len(all_names), len(not_unique)"
   ]
  },
  {
   "cell_type": "code",
   "execution_count": 6,
   "id": "6c7527c4-dfb9-4ab4-9617-0ea2e32dd366",
   "metadata": {},
   "outputs": [
    {
     "data": {
      "text/plain": [
       "(array(['.jpeg', '.jpg', '.png'], dtype='<U5'), array([24209,  1919,    51]))"
      ]
     },
     "execution_count": 6,
     "metadata": {},
     "output_type": "execute_result"
    }
   ],
   "source": [
    "np.unique(np.array(list(map(lambda x: x[x.rfind('.'):], all_names))), return_counts=True)"
   ]
  },
  {
   "cell_type": "markdown",
   "id": "1c48501e-d542-43df-bab2-41c6cd808767",
   "metadata": {},
   "source": [
    "## Do them all in one go\n",
    "since the majority of images are in .jpeg, so we will convert the rest of them to .jpeg"
   ]
  },
  {
   "cell_type": "code",
   "execution_count": 7,
   "id": "37a620cc-318b-4b94-b418-d1d14781d169",
   "metadata": {},
   "outputs": [],
   "source": [
    "annot_path = '/home/ariya/workspace/datasets/animals10-dvc/annotation_df.csv'\n",
    "annot_df = pd.read_csv(annot_path)"
   ]
  },
  {
   "cell_type": "code",
   "execution_count": 8,
   "id": "0ca1dc77-0600-492a-ad61-c00f422c1780",
   "metadata": {},
   "outputs": [],
   "source": [
    "splits = annot_df['split'].unique()\n",
    "for split in splits:\n",
    "    os.makedirs(os.path.join(ds_path, split), exist_ok=True) "
   ]
  },
  {
   "cell_type": "code",
   "execution_count": 9,
   "id": "7d4e48b5-6563-4fb4-b393-c03b8a9aae6c",
   "metadata": {},
   "outputs": [
    {
     "name": "stderr",
     "output_type": "stream",
     "text": [
      "100%|██████████| 26179/26179 [04:59<00:00, 87.55it/s] \n"
     ]
    }
   ],
   "source": [
    "new_image_name_col = []\n",
    "new_abs_path_col = []\n",
    "for idx, row in tqdm(annot_df.iterrows(), total=len(annot_df)):\n",
    "    split = row['split']\n",
    "    img_abs_path = row['abs_path']\n",
    "    if not img_abs_path.endswith('.jpeg'):\n",
    "        img_abs_path = cvt_img_to_ext(img_abs_path, 'jpeg')\n",
    "        \n",
    "    split_path = img_abs_path.split(os.path.sep)\n",
    "    split_path.insert(-2, split)\n",
    "    # .../images/chicken/928_renamed.jpeg -> .../images/train/chicken/928_renamed.jpeg\n",
    "    new_img_name = split_path[-1]\n",
    "    new_out_dir = '/' + os.path.join(*split_path[:-1])\n",
    "    new_abs_path = '/' + os.path.join(*split_path)\n",
    "    if not os.path.exists(new_out_dir):\n",
    "        os.makedirs(new_out_dir, exist_ok=True)\n",
    "        \n",
    "    shutil.copy2(img_abs_path, new_abs_path)\n",
    "    new_image_name_col.append(new_img_name)\n",
    "    new_abs_path_col.append(new_abs_path)"
   ]
  },
  {
   "cell_type": "code",
   "execution_count": 10,
   "id": "ee289171-eb2f-481c-acdd-1b79fa23c056",
   "metadata": {},
   "outputs": [],
   "source": [
    "# quick manual check\n",
    "all_names = []\n",
    "not_unique = []\n",
    "for abs_path, subdirs, files in os.walk(os.path.join(ds_path,'train')):\n",
    "    for file in files:\n",
    "        if file in all_names:\n",
    "            not_unique.append(os.path.join(abs_path,file))\n",
    "        all_names.append(file)"
   ]
  },
  {
   "cell_type": "code",
   "execution_count": 11,
   "id": "07a66ad0-7deb-4fe2-9710-cf09617e1c20",
   "metadata": {},
   "outputs": [
    {
     "name": "stdout",
     "output_type": "stream",
     "text": [
      "20943 0\n"
     ]
    },
    {
     "data": {
      "text/plain": [
       "(array(['.jpeg'], dtype='<U5'), array([20943]))"
      ]
     },
     "execution_count": 11,
     "metadata": {},
     "output_type": "execute_result"
    }
   ],
   "source": [
    "print(len(all_names), len(not_unique))\n",
    "np.unique(np.array(list(map(lambda x: x[x.rfind('.'):], all_names))), return_counts=True)"
   ]
  },
  {
   "cell_type": "code",
   "execution_count": 12,
   "id": "c8096e40-49d4-4d54-bcf8-c7aa1e8f1824",
   "metadata": {},
   "outputs": [],
   "source": [
    "# quick manual check\n",
    "all_names = []\n",
    "not_unique = []\n",
    "for abs_path, subdirs, files in os.walk(os.path.join(ds_path,'test')):\n",
    "    for file in files:\n",
    "        if file in all_names:\n",
    "            not_unique.append(os.path.join(abs_path,file))\n",
    "        all_names.append(file)"
   ]
  },
  {
   "cell_type": "code",
   "execution_count": 13,
   "id": "77d0c45d-58c2-4753-8391-a589b9020a62",
   "metadata": {},
   "outputs": [
    {
     "name": "stdout",
     "output_type": "stream",
     "text": [
      "2618 0\n"
     ]
    },
    {
     "data": {
      "text/plain": [
       "(array(['.jpeg'], dtype='<U5'), array([2618]))"
      ]
     },
     "execution_count": 13,
     "metadata": {},
     "output_type": "execute_result"
    }
   ],
   "source": [
    "print(len(all_names), len(not_unique))\n",
    "np.unique(np.array(list(map(lambda x: x[x.rfind('.'):], all_names))), return_counts=True)"
   ]
  },
  {
   "cell_type": "code",
   "execution_count": 14,
   "id": "7c3ed2c4-6dc8-4d3a-8fce-a7312c958277",
   "metadata": {},
   "outputs": [],
   "source": [
    "# quick manual check\n",
    "all_names = []\n",
    "not_unique = []\n",
    "for abs_path, subdirs, files in os.walk(os.path.join(ds_path,'valid')):\n",
    "    for file in files:\n",
    "        if file in all_names:\n",
    "            not_unique.append(os.path.join(abs_path,file))\n",
    "        all_names.append(file)"
   ]
  },
  {
   "cell_type": "code",
   "execution_count": 15,
   "id": "21604e80-7bed-4405-b787-cb2072b75467",
   "metadata": {},
   "outputs": [
    {
     "name": "stdout",
     "output_type": "stream",
     "text": [
      "2618 0\n"
     ]
    },
    {
     "data": {
      "text/plain": [
       "(array(['.jpeg'], dtype='<U5'), array([2618]))"
      ]
     },
     "execution_count": 15,
     "metadata": {},
     "output_type": "execute_result"
    }
   ],
   "source": [
    "print(len(all_names), len(not_unique))\n",
    "np.unique(np.array(list(map(lambda x: x[x.rfind('.'):], all_names))), return_counts=True)"
   ]
  },
  {
   "cell_type": "code",
   "execution_count": 16,
   "id": "fff3b307-795d-4f11-a469-776039b1b6d8",
   "metadata": {},
   "outputs": [
    {
     "data": {
      "text/plain": [
       "26179"
      ]
     },
     "execution_count": 16,
     "metadata": {},
     "output_type": "execute_result"
    }
   ],
   "source": [
    "20943 + 2618 + 2618"
   ]
  },
  {
   "cell_type": "code",
   "execution_count": 17,
   "id": "93aba0e9-1f20-45eb-ba14-33d00fa960e2",
   "metadata": {},
   "outputs": [
    {
     "data": {
      "text/plain": [
       "26179"
      ]
     },
     "execution_count": 17,
     "metadata": {},
     "output_type": "execute_result"
    }
   ],
   "source": [
    "len(new_image_name_col)"
   ]
  },
  {
   "cell_type": "code",
   "execution_count": 18,
   "id": "e6f7fe95-5000-47ae-a131-4555d84696cb",
   "metadata": {},
   "outputs": [],
   "source": [
    "new_annot_df = annot_df.copy()\n",
    "new_annot_df['image_name'] = new_image_name_col\n",
    "new_annot_df['abs_path'] = new_abs_path_col"
   ]
  },
  {
   "cell_type": "code",
   "execution_count": 19,
   "id": "6de35bfa-5395-4ca3-80fc-f7ff5b5f3a5b",
   "metadata": {},
   "outputs": [],
   "source": [
    "for path in new_annot_df['abs_path']:\n",
    "    if 'checkpoint' in path:\n",
    "        print('JUPYTER',path)\n",
    "    if not os.path.exists(path):\n",
    "        print('MISSING:',path)"
   ]
  },
  {
   "cell_type": "code",
   "execution_count": 20,
   "id": "da20fc20-6bfa-48f0-a36c-8f14651217c6",
   "metadata": {},
   "outputs": [
    {
     "data": {
      "text/plain": [
       "(array(['test', 'train', 'valid'], dtype=object), array([ 2618, 20943,  2618]))"
      ]
     },
     "execution_count": 20,
     "metadata": {},
     "output_type": "execute_result"
    }
   ],
   "source": [
    "np.unique(new_annot_df['split'], return_counts=True)"
   ]
  },
  {
   "cell_type": "code",
   "execution_count": 21,
   "id": "9e07b5ae-65eb-430a-bd53-77a8bb9071b0",
   "metadata": {},
   "outputs": [],
   "source": [
    "new_annot_df.to_csv('/home/ariya/workspace/datasets/animals10-dvc/annotation_df.csv', index=False)"
   ]
  },
  {
   "cell_type": "code",
   "execution_count": null,
   "id": "1b9e406a-9e73-49f8-a343-3bc5b1a96a7a",
   "metadata": {},
   "outputs": [],
   "source": []
  }
 ],
 "metadata": {
  "kernelspec": {
   "display_name": "computer-viz-dl",
   "language": "python",
   "name": "computer-viz-dl"
  },
  "language_info": {
   "codemirror_mode": {
    "name": "ipython",
    "version": 3
   },
   "file_extension": ".py",
   "mimetype": "text/x-python",
   "name": "python",
   "nbconvert_exporter": "python",
   "pygments_lexer": "ipython3",
   "version": "3.9.17"
  }
 },
 "nbformat": 4,
 "nbformat_minor": 5
}
