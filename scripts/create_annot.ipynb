{
 "cells": [
  {
   "cell_type": "code",
   "execution_count": 1,
   "id": "baca7611-508c-4307-ad35-050d6859e2ad",
   "metadata": {},
   "outputs": [],
   "source": [
    "import os\n",
    "import numpy as np\n",
    "import pandas as pd\n",
    "from tqdm import tqdm"
   ]
  },
  {
   "cell_type": "code",
   "execution_count": 2,
   "id": "7b549bc1-8f24-4c13-957b-f0d93afe4eda",
   "metadata": {},
   "outputs": [
    {
     "data": {
      "text/plain": [
       "['butterfly',\n",
       " 'cat',\n",
       " 'chicken',\n",
       " 'cow',\n",
       " 'dog',\n",
       " 'elephant',\n",
       " 'horse',\n",
       " 'sheep',\n",
       " 'spider',\n",
       " 'squirrel']"
      ]
     },
     "execution_count": 2,
     "metadata": {},
     "output_type": "execute_result"
    }
   ],
   "source": [
    "ds_path = '/home/ariya/workspace/datasets/animals10-dvc'\n",
    "ds_images_path = os.path.join(ds_path, 'images')\n",
    "os.listdir(ds_images_path)"
   ]
  },
  {
   "cell_type": "code",
   "execution_count": 3,
   "id": "2bd9c0a1-2d56-46c5-9213-1919898890d5",
   "metadata": {},
   "outputs": [],
   "source": [
    "# cols: image_name, abs_path, split, GT\n",
    "classes = np.array(['butterfly', 'cat', 'chicken', 'cow', 'dog', \n",
    "                    'elephant', 'horse', 'sheep', 'spider', 'squirrel'])"
   ]
  },
  {
   "cell_type": "code",
   "execution_count": 4,
   "id": "0e56ecff-2ba4-412b-bca9-5efa2841dc54",
   "metadata": {},
   "outputs": [
    {
     "data": {
      "text/plain": [
       "[0, 1, 0, 0, 0, 0, 0, 0, 0, 0]"
      ]
     },
     "execution_count": 4,
     "metadata": {},
     "output_type": "execute_result"
    }
   ],
   "source": [
    "# example of how it works\n",
    "[*('cat' == classes).astype(int)]"
   ]
  },
  {
   "cell_type": "code",
   "execution_count": 5,
   "id": "50a6ab16-e8ef-4b22-a5b5-a896828d8362",
   "metadata": {},
   "outputs": [
    {
     "name": "stderr",
     "output_type": "stream",
     "text": [
      "0it [00:00, ?it/s]\n",
      "100%|██████████| 2112/2112 [00:00<00:00, 117825.68it/s]\n",
      "100%|██████████| 1668/1668 [00:00<00:00, 153561.30it/s]\n",
      "100%|██████████| 3098/3098 [00:00<00:00, 178819.98it/s]\n",
      "100%|██████████| 1866/1866 [00:00<00:00, 180564.57it/s]\n",
      "100%|██████████| 4863/4863 [00:00<00:00, 236463.87it/s]\n",
      "100%|██████████| 1446/1446 [00:00<00:00, 209143.89it/s]\n",
      "100%|██████████| 2623/2623 [00:00<00:00, 238389.15it/s]\n",
      "100%|██████████| 1820/1820 [00:00<00:00, 204990.29it/s]\n",
      "100%|██████████| 4821/4821 [00:00<00:00, 204435.75it/s]\n",
      "100%|██████████| 1862/1862 [00:00<00:00, 236983.59it/s]\n"
     ]
    }
   ],
   "source": [
    "data = []\n",
    "exts = ('.jpeg', '.jpg', '.png') # checked in check_ds_info.ipynb\n",
    "for abs_path, subdirs, files in os.walk(ds_images_path):\n",
    "    for file in tqdm(files):\n",
    "        if file.endswith(exts):\n",
    "            gt_class = os.path.split(abs_path)[-1]\n",
    "            one_hot_gt = (gt_class == classes).astype(int)\n",
    "            row = [file, os.path.join(abs_path, file), *one_hot_gt]\n",
    "            data.append(row)\n",
    "annot_df = pd.DataFrame(data, columns=['image_name', 'abs_path', *classes])"
   ]
  },
  {
   "cell_type": "code",
   "execution_count": 6,
   "id": "f9f8c229-ae39-46c3-85a2-9c05c217e12e",
   "metadata": {},
   "outputs": [
    {
     "data": {
      "text/html": [
       "<div>\n",
       "<style scoped>\n",
       "    .dataframe tbody tr th:only-of-type {\n",
       "        vertical-align: middle;\n",
       "    }\n",
       "\n",
       "    .dataframe tbody tr th {\n",
       "        vertical-align: top;\n",
       "    }\n",
       "\n",
       "    .dataframe thead th {\n",
       "        text-align: right;\n",
       "    }\n",
       "</style>\n",
       "<table border=\"1\" class=\"dataframe\">\n",
       "  <thead>\n",
       "    <tr style=\"text-align: right;\">\n",
       "      <th></th>\n",
       "      <th>image_name</th>\n",
       "      <th>abs_path</th>\n",
       "      <th>butterfly</th>\n",
       "      <th>cat</th>\n",
       "      <th>chicken</th>\n",
       "      <th>cow</th>\n",
       "      <th>dog</th>\n",
       "      <th>elephant</th>\n",
       "      <th>horse</th>\n",
       "      <th>sheep</th>\n",
       "      <th>spider</th>\n",
       "      <th>squirrel</th>\n",
       "    </tr>\n",
       "  </thead>\n",
       "  <tbody>\n",
       "    <tr>\n",
       "      <th>0</th>\n",
       "      <td>OIP--04ndbWy7I04gsPgu9qOeQHaHs.jpeg</td>\n",
       "      <td>/home/ariya/workspace/datasets/animals10-dvc/i...</td>\n",
       "      <td>1</td>\n",
       "      <td>0</td>\n",
       "      <td>0</td>\n",
       "      <td>0</td>\n",
       "      <td>0</td>\n",
       "      <td>0</td>\n",
       "      <td>0</td>\n",
       "      <td>0</td>\n",
       "      <td>0</td>\n",
       "      <td>0</td>\n",
       "    </tr>\n",
       "    <tr>\n",
       "      <th>1</th>\n",
       "      <td>OIP--3xxJkezSkNzxrQaxlhv-QHaHa.jpeg</td>\n",
       "      <td>/home/ariya/workspace/datasets/animals10-dvc/i...</td>\n",
       "      <td>1</td>\n",
       "      <td>0</td>\n",
       "      <td>0</td>\n",
       "      <td>0</td>\n",
       "      <td>0</td>\n",
       "      <td>0</td>\n",
       "      <td>0</td>\n",
       "      <td>0</td>\n",
       "      <td>0</td>\n",
       "      <td>0</td>\n",
       "    </tr>\n",
       "    <tr>\n",
       "      <th>2</th>\n",
       "      <td>OIP--4zW12JF-JpwKcDtEK7thgHaLC.jpeg</td>\n",
       "      <td>/home/ariya/workspace/datasets/animals10-dvc/i...</td>\n",
       "      <td>1</td>\n",
       "      <td>0</td>\n",
       "      <td>0</td>\n",
       "      <td>0</td>\n",
       "      <td>0</td>\n",
       "      <td>0</td>\n",
       "      <td>0</td>\n",
       "      <td>0</td>\n",
       "      <td>0</td>\n",
       "      <td>0</td>\n",
       "    </tr>\n",
       "    <tr>\n",
       "      <th>3</th>\n",
       "      <td>OIP--7K5JzW1ZEmrY2YRyVjFCQHaE7.jpeg</td>\n",
       "      <td>/home/ariya/workspace/datasets/animals10-dvc/i...</td>\n",
       "      <td>1</td>\n",
       "      <td>0</td>\n",
       "      <td>0</td>\n",
       "      <td>0</td>\n",
       "      <td>0</td>\n",
       "      <td>0</td>\n",
       "      <td>0</td>\n",
       "      <td>0</td>\n",
       "      <td>0</td>\n",
       "      <td>0</td>\n",
       "    </tr>\n",
       "    <tr>\n",
       "      <th>4</th>\n",
       "      <td>OIP--8RSoaU1iEvZhemy7FlYegHaD9.jpeg</td>\n",
       "      <td>/home/ariya/workspace/datasets/animals10-dvc/i...</td>\n",
       "      <td>1</td>\n",
       "      <td>0</td>\n",
       "      <td>0</td>\n",
       "      <td>0</td>\n",
       "      <td>0</td>\n",
       "      <td>0</td>\n",
       "      <td>0</td>\n",
       "      <td>0</td>\n",
       "      <td>0</td>\n",
       "      <td>0</td>\n",
       "    </tr>\n",
       "    <tr>\n",
       "      <th>...</th>\n",
       "      <td>...</td>\n",
       "      <td>...</td>\n",
       "      <td>...</td>\n",
       "      <td>...</td>\n",
       "      <td>...</td>\n",
       "      <td>...</td>\n",
       "      <td>...</td>\n",
       "      <td>...</td>\n",
       "      <td>...</td>\n",
       "      <td>...</td>\n",
       "      <td>...</td>\n",
       "      <td>...</td>\n",
       "    </tr>\n",
       "    <tr>\n",
       "      <th>26174</th>\n",
       "      <td>OIP-zpD7SDCbIqwjYm2A06OybwHaID.jpeg</td>\n",
       "      <td>/home/ariya/workspace/datasets/animals10-dvc/i...</td>\n",
       "      <td>0</td>\n",
       "      <td>0</td>\n",
       "      <td>0</td>\n",
       "      <td>0</td>\n",
       "      <td>0</td>\n",
       "      <td>0</td>\n",
       "      <td>0</td>\n",
       "      <td>0</td>\n",
       "      <td>0</td>\n",
       "      <td>1</td>\n",
       "    </tr>\n",
       "    <tr>\n",
       "      <th>26175</th>\n",
       "      <td>OIP-zpZ5t_rN3DA6xByG0o05WwAAAA.jpeg</td>\n",
       "      <td>/home/ariya/workspace/datasets/animals10-dvc/i...</td>\n",
       "      <td>0</td>\n",
       "      <td>0</td>\n",
       "      <td>0</td>\n",
       "      <td>0</td>\n",
       "      <td>0</td>\n",
       "      <td>0</td>\n",
       "      <td>0</td>\n",
       "      <td>0</td>\n",
       "      <td>0</td>\n",
       "      <td>1</td>\n",
       "    </tr>\n",
       "    <tr>\n",
       "      <th>26176</th>\n",
       "      <td>OIP-zwWLqRd95U-BjagmhkAgoQHaFK.jpeg</td>\n",
       "      <td>/home/ariya/workspace/datasets/animals10-dvc/i...</td>\n",
       "      <td>0</td>\n",
       "      <td>0</td>\n",
       "      <td>0</td>\n",
       "      <td>0</td>\n",
       "      <td>0</td>\n",
       "      <td>0</td>\n",
       "      <td>0</td>\n",
       "      <td>0</td>\n",
       "      <td>0</td>\n",
       "      <td>1</td>\n",
       "    </tr>\n",
       "    <tr>\n",
       "      <th>26177</th>\n",
       "      <td>OIP-zyCc-DDxjCSB5m9DR3uNKQHaE8.jpeg</td>\n",
       "      <td>/home/ariya/workspace/datasets/animals10-dvc/i...</td>\n",
       "      <td>0</td>\n",
       "      <td>0</td>\n",
       "      <td>0</td>\n",
       "      <td>0</td>\n",
       "      <td>0</td>\n",
       "      <td>0</td>\n",
       "      <td>0</td>\n",
       "      <td>0</td>\n",
       "      <td>0</td>\n",
       "      <td>1</td>\n",
       "    </tr>\n",
       "    <tr>\n",
       "      <th>26178</th>\n",
       "      <td>OIP-zzy5kEbHuGBWXZ3c-D85aAHaE8.jpeg</td>\n",
       "      <td>/home/ariya/workspace/datasets/animals10-dvc/i...</td>\n",
       "      <td>0</td>\n",
       "      <td>0</td>\n",
       "      <td>0</td>\n",
       "      <td>0</td>\n",
       "      <td>0</td>\n",
       "      <td>0</td>\n",
       "      <td>0</td>\n",
       "      <td>0</td>\n",
       "      <td>0</td>\n",
       "      <td>1</td>\n",
       "    </tr>\n",
       "  </tbody>\n",
       "</table>\n",
       "<p>26179 rows × 12 columns</p>\n",
       "</div>"
      ],
      "text/plain": [
       "                                image_name  \\\n",
       "0      OIP--04ndbWy7I04gsPgu9qOeQHaHs.jpeg   \n",
       "1      OIP--3xxJkezSkNzxrQaxlhv-QHaHa.jpeg   \n",
       "2      OIP--4zW12JF-JpwKcDtEK7thgHaLC.jpeg   \n",
       "3      OIP--7K5JzW1ZEmrY2YRyVjFCQHaE7.jpeg   \n",
       "4      OIP--8RSoaU1iEvZhemy7FlYegHaD9.jpeg   \n",
       "...                                    ...   \n",
       "26174  OIP-zpD7SDCbIqwjYm2A06OybwHaID.jpeg   \n",
       "26175  OIP-zpZ5t_rN3DA6xByG0o05WwAAAA.jpeg   \n",
       "26176  OIP-zwWLqRd95U-BjagmhkAgoQHaFK.jpeg   \n",
       "26177  OIP-zyCc-DDxjCSB5m9DR3uNKQHaE8.jpeg   \n",
       "26178  OIP-zzy5kEbHuGBWXZ3c-D85aAHaE8.jpeg   \n",
       "\n",
       "                                                abs_path  butterfly  cat  \\\n",
       "0      /home/ariya/workspace/datasets/animals10-dvc/i...          1    0   \n",
       "1      /home/ariya/workspace/datasets/animals10-dvc/i...          1    0   \n",
       "2      /home/ariya/workspace/datasets/animals10-dvc/i...          1    0   \n",
       "3      /home/ariya/workspace/datasets/animals10-dvc/i...          1    0   \n",
       "4      /home/ariya/workspace/datasets/animals10-dvc/i...          1    0   \n",
       "...                                                  ...        ...  ...   \n",
       "26174  /home/ariya/workspace/datasets/animals10-dvc/i...          0    0   \n",
       "26175  /home/ariya/workspace/datasets/animals10-dvc/i...          0    0   \n",
       "26176  /home/ariya/workspace/datasets/animals10-dvc/i...          0    0   \n",
       "26177  /home/ariya/workspace/datasets/animals10-dvc/i...          0    0   \n",
       "26178  /home/ariya/workspace/datasets/animals10-dvc/i...          0    0   \n",
       "\n",
       "       chicken  cow  dog  elephant  horse  sheep  spider  squirrel  \n",
       "0            0    0    0         0      0      0       0         0  \n",
       "1            0    0    0         0      0      0       0         0  \n",
       "2            0    0    0         0      0      0       0         0  \n",
       "3            0    0    0         0      0      0       0         0  \n",
       "4            0    0    0         0      0      0       0         0  \n",
       "...        ...  ...  ...       ...    ...    ...     ...       ...  \n",
       "26174        0    0    0         0      0      0       0         1  \n",
       "26175        0    0    0         0      0      0       0         1  \n",
       "26176        0    0    0         0      0      0       0         1  \n",
       "26177        0    0    0         0      0      0       0         1  \n",
       "26178        0    0    0         0      0      0       0         1  \n",
       "\n",
       "[26179 rows x 12 columns]"
      ]
     },
     "execution_count": 6,
     "metadata": {},
     "output_type": "execute_result"
    }
   ],
   "source": [
    "annot_df"
   ]
  },
  {
   "cell_type": "markdown",
   "id": "358fc803-bc5f-414d-b783-67fe8b3c14cc",
   "metadata": {},
   "source": [
    "## Train/Valid/Test split"
   ]
  },
  {
   "cell_type": "code",
   "execution_count": 7,
   "id": "d9e142a0-b18c-4932-b706-360c83dc0163",
   "metadata": {},
   "outputs": [],
   "source": [
    "from sklearn.model_selection import train_test_split"
   ]
  },
  {
   "cell_type": "code",
   "execution_count": 8,
   "id": "1b57d724-a230-4005-9a58-a439eb781a81",
   "metadata": {},
   "outputs": [],
   "source": [
    "# 80/10/10 split\n",
    "train_df, valid_test_df = train_test_split(annot_df, test_size=0.2, random_state=42, shuffle=True)\n",
    "valid_df, test_df = train_test_split(valid_test_df, test_size=0.5, random_state=42, shuffle=True)"
   ]
  },
  {
   "cell_type": "code",
   "execution_count": 9,
   "id": "8ed00686-3cfe-4423-9eab-19b90dabddb0",
   "metadata": {},
   "outputs": [
    {
     "name": "stderr",
     "output_type": "stream",
     "text": [
      "/tmp/ipykernel_1140/1018794404.py:1: SettingWithCopyWarning: \n",
      "A value is trying to be set on a copy of a slice from a DataFrame.\n",
      "Try using .loc[row_indexer,col_indexer] = value instead\n",
      "\n",
      "See the caveats in the documentation: https://pandas.pydata.org/pandas-docs/stable/user_guide/indexing.html#returning-a-view-versus-a-copy\n",
      "  train_df.loc[:,'split'] = 'train'\n",
      "/tmp/ipykernel_1140/1018794404.py:2: SettingWithCopyWarning: \n",
      "A value is trying to be set on a copy of a slice from a DataFrame.\n",
      "Try using .loc[row_indexer,col_indexer] = value instead\n",
      "\n",
      "See the caveats in the documentation: https://pandas.pydata.org/pandas-docs/stable/user_guide/indexing.html#returning-a-view-versus-a-copy\n",
      "  valid_df.loc[:,'split'] = 'valid'\n",
      "/tmp/ipykernel_1140/1018794404.py:3: SettingWithCopyWarning: \n",
      "A value is trying to be set on a copy of a slice from a DataFrame.\n",
      "Try using .loc[row_indexer,col_indexer] = value instead\n",
      "\n",
      "See the caveats in the documentation: https://pandas.pydata.org/pandas-docs/stable/user_guide/indexing.html#returning-a-view-versus-a-copy\n",
      "  test_df.loc[:,'split'] = 'test'\n"
     ]
    }
   ],
   "source": [
    "train_df.loc[:,'split'] = 'train'\n",
    "valid_df.loc[:,'split'] = 'valid'\n",
    "test_df.loc[:,'split'] = 'test'"
   ]
  },
  {
   "cell_type": "code",
   "execution_count": 10,
   "id": "82cb9b00-3a75-42c2-9bbf-faf0b08f43b5",
   "metadata": {},
   "outputs": [
    {
     "data": {
      "text/plain": [
       "(26179,\n",
       " (array(['test', 'train', 'valid'], dtype=object),\n",
       "  array([ 2618, 20943,  2618])))"
      ]
     },
     "execution_count": 10,
     "metadata": {},
     "output_type": "execute_result"
    }
   ],
   "source": [
    "final_annot_df = pd.concat([train_df, valid_df, test_df])\n",
    "len(final_annot_df), np.unique(final_annot_df['split'], return_counts=True)"
   ]
  },
  {
   "cell_type": "code",
   "execution_count": 11,
   "id": "ba815997-f2fb-49ab-80f0-7bf75acd7d89",
   "metadata": {},
   "outputs": [
    {
     "data": {
      "text/plain": [
       "Index(['image_name', 'abs_path', 'butterfly', 'cat', 'chicken', 'cow', 'dog',\n",
       "       'elephant', 'horse', 'sheep', 'spider', 'squirrel', 'split'],\n",
       "      dtype='object')"
      ]
     },
     "execution_count": 11,
     "metadata": {},
     "output_type": "execute_result"
    }
   ],
   "source": [
    "final_annot_df.columns"
   ]
  },
  {
   "cell_type": "code",
   "execution_count": 12,
   "id": "ed6ee4ef-ef63-4dc2-9fc1-dd4d56c3d2df",
   "metadata": {},
   "outputs": [],
   "source": [
    "final_annot_df.to_csv(os.path.join(ds_path, 'annotation_df.csv'), index=False)"
   ]
  }
 ],
 "metadata": {
  "kernelspec": {
   "display_name": "computer-viz-dl",
   "language": "python",
   "name": "computer-viz-dl"
  },
  "language_info": {
   "codemirror_mode": {
    "name": "ipython",
    "version": 3
   },
   "file_extension": ".py",
   "mimetype": "text/x-python",
   "name": "python",
   "nbconvert_exporter": "python",
   "pygments_lexer": "ipython3",
   "version": "3.9.17"
  }
 },
 "nbformat": 4,
 "nbformat_minor": 5
}
